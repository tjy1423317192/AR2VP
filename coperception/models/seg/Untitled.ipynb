{
 "cells": [
  {
   "cell_type": "code",
   "execution_count": 5,
   "metadata": {},
   "outputs": [
    {
     "data": {
      "text/plain": [
       "(tensor([[1, 2, 3],\n",
       "         [1, 2, 3]]),\n",
       " tensor([[2, 2, 3],\n",
       "         [2, 2, 3]]),\n",
       " tensor([[3, 2, 3],\n",
       "         [3, 2, 3]]),\n",
       " tensor([[4, 2, 3],\n",
       "         [4, 2, 3]]),\n",
       " tensor([[5, 2, 3],\n",
       "         [5, 2, 3]]),\n",
       " tensor([[6, 2, 3],\n",
       "         [6, 2, 3]]))"
      ]
     },
     "execution_count": 5,
     "metadata": {},
     "output_type": "execute_result"
    }
   ],
   "source": [
    "import torch\n",
    "\n",
    "num1 = torch.tensor([[1,2,3],[1,2,3]])\n",
    "num2 = torch.tensor([[2,2,3],[2,2,3]])\n",
    "num3 = torch.tensor([[3,2,3],[3,2,3]])\n",
    "num4 = torch.tensor([[4,2,3],[4,2,3]])\n",
    "num5 = torch.tensor([[5,2,3],[5,2,3]])\n",
    "num6 = torch.tensor([[6,2,3],[6,2,3]])\n",
    "padded_voxel_points_list = [num1, num2, num3,num4,num5,num6]\n",
    "padded_voxel_points = torch.cat(tuple(padded_voxel_points_list), 0)\n",
    "padded_voxel_points\n",
    "chunks = padded_voxel_points.chunk(6, dim=0)\n",
    "chunks"
   ]
  },
  {
   "cell_type": "code",
   "execution_count": null,
   "metadata": {},
   "outputs": [],
   "source": []
  }
 ],
 "metadata": {
  "kernelspec": {
   "display_name": "coperception",
   "language": "python",
   "name": "coperception"
  },
  "language_info": {
   "codemirror_mode": {
    "name": "ipython",
    "version": 3
   },
   "file_extension": ".py",
   "mimetype": "text/x-python",
   "name": "python",
   "nbconvert_exporter": "python",
   "pygments_lexer": "ipython3",
   "version": "3.7.16"
  }
 },
 "nbformat": 4,
 "nbformat_minor": 4
}
